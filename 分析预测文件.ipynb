{
 "cells": [
  {
   "cell_type": "markdown",
   "metadata": {},
   "source": [
    "# 分析测试文件"
   ]
  },
  {
   "cell_type": "markdown",
   "metadata": {},
   "source": [
    "## 设置置信度阈值"
   ]
  },
  {
   "cell_type": "markdown",
   "metadata": {},
   "source": [
    "### 不加阈值时的表现"
   ]
  },
  {
   "cell_type": "markdown",
   "metadata": {},
   "source": [
    "读取预测文件"
   ]
  },
  {
   "cell_type": "code",
   "execution_count": 1,
   "metadata": {},
   "outputs": [],
   "source": [
    "import os\n",
    "import json\n",
    "\n",
    "with open(\"test_conll03.txt\", \"r\", encoding=\"utf-8\") as f:\n",
    "    lines = f.readlines()"
   ]
  },
  {
   "cell_type": "markdown",
   "metadata": {},
   "source": [
    "评估预测表现"
   ]
  },
  {
   "cell_type": "code",
   "execution_count": 2,
   "metadata": {},
   "outputs": [
    {
     "name": "stdout",
     "output_type": "stream",
     "text": [
      "num_true_entities: 5648\n",
      "num_pred_entities: 5702\n",
      "num_correct_entities: 5247\n"
     ]
    }
   ],
   "source": [
    "num_true_entities = 0\n",
    "num_pred_entities = 0\n",
    "num_correct_entities = 0\n",
    "prob_list = []\n",
    "\n",
    "for i in range(len(lines)):\n",
    "    if i % 9 == 0:\n",
    "        true_entities = eval(lines[i + 3].strip())\n",
    "        predicted_entities = eval(lines[i + 5].strip())\n",
    "        predicted_probs = eval(lines[i + 7].strip())\n",
    "        \n",
    "        num_true_entities += len(true_entities)\n",
    "        num_pred_entities += len(predicted_entities)\n",
    "        prob_list.extend(predicted_probs)\n",
    "        \n",
    "        for entity in true_entities:\n",
    "            if entity in predicted_entities:\n",
    "                num_correct_entities += 1\n",
    "\n",
    "print(\"num_true_entities: {}\".format(num_true_entities))\n",
    "print(\"num_pred_entities: {}\".format(num_pred_entities))\n",
    "print(\"num_correct_entities: {}\".format(num_correct_entities))"
   ]
  },
  {
   "cell_type": "markdown",
   "metadata": {},
   "source": [
    "查看一下实体概率的分布"
   ]
  },
  {
   "cell_type": "code",
   "execution_count": 3,
   "metadata": {},
   "outputs": [],
   "source": [
    "# len(prob_list)  # 5702, 和预测出来的实体数目一致，没有问题\n",
    "import pandas as pd\n",
    "\n",
    "df = pd.DataFrame({'prob': prob_list})"
   ]
  },
  {
   "cell_type": "code",
   "execution_count": 4,
   "metadata": {},
   "outputs": [
    {
     "data": {
      "text/html": [
       "<div>\n",
       "<style scoped>\n",
       "    .dataframe tbody tr th:only-of-type {\n",
       "        vertical-align: middle;\n",
       "    }\n",
       "\n",
       "    .dataframe tbody tr th {\n",
       "        vertical-align: top;\n",
       "    }\n",
       "\n",
       "    .dataframe thead th {\n",
       "        text-align: right;\n",
       "    }\n",
       "</style>\n",
       "<table border=\"1\" class=\"dataframe\">\n",
       "  <thead>\n",
       "    <tr style=\"text-align: right;\">\n",
       "      <th></th>\n",
       "      <th>prob</th>\n",
       "    </tr>\n",
       "  </thead>\n",
       "  <tbody>\n",
       "    <tr>\n",
       "      <th>count</th>\n",
       "      <td>5702.000000</td>\n",
       "    </tr>\n",
       "    <tr>\n",
       "      <th>mean</th>\n",
       "      <td>0.985121</td>\n",
       "    </tr>\n",
       "    <tr>\n",
       "      <th>std</th>\n",
       "      <td>0.070582</td>\n",
       "    </tr>\n",
       "    <tr>\n",
       "      <th>min</th>\n",
       "      <td>0.289225</td>\n",
       "    </tr>\n",
       "    <tr>\n",
       "      <th>25%</th>\n",
       "      <td>0.999856</td>\n",
       "    </tr>\n",
       "    <tr>\n",
       "      <th>50%</th>\n",
       "      <td>0.999986</td>\n",
       "    </tr>\n",
       "    <tr>\n",
       "      <th>75%</th>\n",
       "      <td>0.999999</td>\n",
       "    </tr>\n",
       "    <tr>\n",
       "      <th>max</th>\n",
       "      <td>1.000000</td>\n",
       "    </tr>\n",
       "  </tbody>\n",
       "</table>\n",
       "</div>"
      ],
      "text/plain": [
       "              prob\n",
       "count  5702.000000\n",
       "mean      0.985121\n",
       "std       0.070582\n",
       "min       0.289225\n",
       "25%       0.999856\n",
       "50%       0.999986\n",
       "75%       0.999999\n",
       "max       1.000000"
      ]
     },
     "execution_count": 4,
     "metadata": {},
     "output_type": "execute_result"
    }
   ],
   "source": [
    "df.describe()"
   ]
  },
  {
   "cell_type": "code",
   "execution_count": 5,
   "metadata": {},
   "outputs": [
    {
     "name": "stdout",
     "output_type": "stream",
     "text": [
      "precision: 0.9202034373903893\n",
      "recall: 0.9290014164305949\n",
      "f: 0.9245814977973569\n"
     ]
    }
   ],
   "source": [
    "# from utils import cal_f1\n",
    "\n",
    "precision = num_correct_entities / num_pred_entities\n",
    "recall = num_correct_entities / num_true_entities\n",
    "f = 2 * precision * recall / (precision + recall) if precision and recall else 0\n",
    "print(\"precision: {}\".format(precision))\n",
    "print(\"recall: {}\".format(recall))\n",
    "print(\"f: {}\".format(f))"
   ]
  },
  {
   "cell_type": "code",
   "execution_count": 6,
   "metadata": {},
   "outputs": [],
   "source": [
    "def cal_f1(num_correct, num_pred, num_real):\n",
    "    \"\"\" \n",
    "    根据实际实体数量, 预测实体数量, 预测正确的实体数量计算f1值\n",
    "    input:\n",
    "        num_correct (int): 预测正确的实体数量\n",
    "        num_pred (int): 预测的实体数量\n",
    "        num_real (int): 实际的实体数量\n",
    "    output:\n",
    "        precision (float): 预测正确的实体数量/预测的实体数量\n",
    "        recall (float): 预测正确的实体数量/实际的实体数量\n",
    "        f (float): 2 * precision * recall / (precision + recall)\n",
    "    \"\"\"\n",
    "    if num_real == 0 or num_pred == 0 or num_correct == 0:\n",
    "        return 0, 0, 0\n",
    "\n",
    "    recall = num_correct / num_real\n",
    "    precision = num_correct / num_pred\n",
    "    f = 0\n",
    "    if recall and precision:\n",
    "        f =  2 * precision * recall / (precision + recall)\n",
    "    \n",
    "    return precision, recall, f"
   ]
  },
  {
   "cell_type": "code",
   "execution_count": 7,
   "metadata": {},
   "outputs": [
    {
     "data": {
      "text/plain": [
       "(0.9202034373903893, 0.9290014164305949, 0.9245814977973569)"
      ]
     },
     "execution_count": 7,
     "metadata": {},
     "output_type": "execute_result"
    }
   ],
   "source": [
    "cal_f1(num_correct=num_correct_entities, num_pred=num_pred_entities, num_real=num_true_entities)"
   ]
  },
  {
   "cell_type": "markdown",
   "metadata": {},
   "source": [
    "### 加阈值时的表现"
   ]
  },
  {
   "cell_type": "code",
   "execution_count": 8,
   "metadata": {},
   "outputs": [],
   "source": [
    "def get_performance(predict_file, threshold):\n",
    "    \"\"\" \n",
    "    根据预测文件和设定的阈值, 评估模型的表现\n",
    "    input:\n",
    "        predict_file (str): 预测文件路径\n",
    "        threshold (float): 阈值\n",
    "    output:\n",
    "        precision (float): 预测正确的实体数量/预测的实体数量\n",
    "        recall (float): 预测正确的实体数量/实际的实体数量\n",
    "        f (float): 2 * precision * recall / (precision + recall)\n",
    "    \"\"\"\n",
    "    \n",
    "    with open(predict_file, \"r\", encoding=\"utf-8\") as f:\n",
    "        lines = f.readlines()\n",
    "        \n",
    "    num_true_entities = 0\n",
    "    num_pred_entities = 0\n",
    "    num_correct_entities = 0\n",
    "\n",
    "    for i in range(len(lines)):\n",
    "        if i % 9 == 0:\n",
    "            true_entities = eval(lines[i + 3].strip())\n",
    "            predicted_entities = eval(lines[i + 5].strip())\n",
    "            predicted_probs = eval(lines[i + 7].strip())\n",
    "            \n",
    "            # 筛选出大于阈值的预测结果\n",
    "            predicted_entities = [entity for entity, prob in zip(predicted_entities, predicted_probs) if prob >= threshold]\n",
    "            \n",
    "            num_true_entities += len(true_entities)\n",
    "            num_pred_entities += len(predicted_entities)\n",
    "            \n",
    "            for entity in true_entities:\n",
    "                if entity in predicted_entities:\n",
    "                    num_correct_entities += 1\n",
    "    print(\"num_true_entities: {}\".format(num_true_entities))\n",
    "    print(\"num_pred_entities: {}\".format(num_pred_entities))\n",
    "    print(\"num_correct_entities: {}\".format(num_correct_entities))\n",
    "    precision, recall, f = cal_f1(num_correct=num_correct_entities, num_pred=num_pred_entities, num_real=num_true_entities)\n",
    "    \n",
    "    return precision, recall, f"
   ]
  },
  {
   "cell_type": "code",
   "execution_count": 10,
   "metadata": {},
   "outputs": [
    {
     "name": "stdout",
     "output_type": "stream",
     "text": [
      "num_true_entities: 5648\n",
      "num_pred_entities: 5702\n",
      "num_correct_entities: 5247\n",
      "num_true_entities: 5648\n",
      "num_pred_entities: 5669\n",
      "num_correct_entities: 5237\n",
      "num_true_entities: 5648\n",
      "num_pred_entities: 5467\n",
      "num_correct_entities: 5154\n",
      "num_true_entities: 5648\n",
      "num_pred_entities: 5377\n",
      "num_correct_entities: 5102\n",
      "num_true_entities: 5648\n",
      "num_pred_entities: 5286\n",
      "num_correct_entities: 5051\n",
      "num_true_entities: 5648\n",
      "num_pred_entities: 5208\n",
      "num_correct_entities: 4990\n",
      "+--------------------+--------------------+--------------------+-----------+\n",
      "|     Precision      |       Recall       |         F1         | Threshold |\n",
      "+--------------------+--------------------+--------------------+-----------+\n",
      "| 0.9202034373903893 | 0.9290014164305949 | 0.9245814977973569 |    0.2    |\n",
      "| 0.923796083965426  | 0.9272308781869688 | 0.9255102942475921 |    0.5    |\n",
      "| 0.9427473934516188 | 0.9125354107648725 | 0.9273954116059379 |    0.9    |\n",
      "| 0.9488562395387763 | 0.9033286118980169 | 0.925532879818594  |    0.95   |\n",
      "| 0.955542943624669  | 0.8942988668555241 | 0.9239070788366563 |    0.98   |\n",
      "| 0.9581413210445469 | 0.8834985835694051 |  0.91930729550479  |    0.99   |\n",
      "+--------------------+--------------------+--------------------+-----------+\n"
     ]
    }
   ],
   "source": [
    "import prettytable as pt\n",
    "table = pt.PrettyTable([\"Precision\", \"Recall\", \"F1\", \"Threshold\"])\n",
    "\n",
    "thresholds = [0.2, 0.5, 0.9, 0.95, 0.98, 0.99]\n",
    "precision_list = []\n",
    "recall_list = []\n",
    "f_list = []\n",
    "\n",
    "for threshold in thresholds:\n",
    "    precision, recall, f = get_performance(predict_file=\"test_conll03.txt\", threshold=threshold)\n",
    "    precision_list.append(precision)\n",
    "    recall_list.append(recall)\n",
    "    f_list.append(f)\n",
    "    \n",
    "    table.add_row([precision, recall, f, threshold])\n",
    "\n",
    "print(table)    "
   ]
  },
  {
   "cell_type": "code",
   "execution_count": 16,
   "metadata": {},
   "outputs": [
    {
     "data": {
      "image/png": "[encoded data removed]",
      "text/plain": [
       "<Figure size 432x288 with 1 Axes>"
      ]
     },
     "metadata": {
      "needs_background": "light"
     },
     "output_type": "display_data"
    }
   ],
   "source": [
    "import matplotlib.pyplot as plt\n",
    "\n",
    "#折线图\n",
    "x = thresholds#点的横坐标\n",
    "y1 = f_list \n",
    "y2 = precision_list\n",
    "y3 = recall_list\n",
    "plt.plot(x, y1, 's-', color='r', label=\"f\") #s-:方形\n",
    "plt.plot(x, y2, 'o-', color='g', label=\"pre\") #o-:圆形\n",
    "plt.plot(x, y3, '*-', color='b', label=\"rec\") #*-:方形\n",
    "plt.xlabel(\"threhold\")  #横坐标名字\n",
    "plt.ylabel(\"performance\")   #纵坐标名字\n",
    "plt.legend(loc=\"best\")  #图例\n",
    "plt.title(\"The effects of threshold\")  #标题\n",
    "plt.show()"
   ]
  },
  {
   "cell_type": "code",
   "execution_count": null,
   "metadata": {},
   "outputs": [],
   "source": []
  }
 ],
 "metadata": {
  "interpreter": {
   "hash": "f631b86adf457f338a4428257848576e298574cd5d4f6dd6f5d4f2a8f96b5adb"
  },
  "kernelspec": {
   "display_name": "Python 3.8.13 ('pytorch')",
   "language": "python",
   "name": "python3"
  },
  "language_info": {
   "codemirror_mode": {
    "name": "ipython",
    "version": 3
   },
   "file_extension": ".py",
   "mimetype": "text/x-python",
   "name": "python",
   "nbconvert_exporter": "python",
   "pygments_lexer": "ipython3",
   "version": "3.8.13"
  },
  "orig_nbformat": 4
 },
 "nbformat": 4,
 "nbformat_minor": 2
}
