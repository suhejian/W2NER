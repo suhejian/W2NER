{
 "cells": [
  {
   "cell_type": "markdown",
   "metadata": {},
   "source": [
    "# 将数据处理为W2NER可以接受的格式"
   ]
  },
  {
   "cell_type": "markdown",
   "metadata": {},
   "source": [
    "## 处理CLUENER数据集"
   ]
  },
  {
   "cell_type": "markdown",
   "metadata": {},
   "source": [
    "一个样例的转换"
   ]
  },
  {
   "cell_type": "code",
   "execution_count": 29,
   "metadata": {},
   "outputs": [],
   "source": [
    "def convert_cluener_to_w2nerformat(sample):\n",
    "    \"\"\" \n",
    "    将cluener格式的数据转换为w2v格式的数据\n",
    "    input:\n",
    "        sample (dict): cluener格式的数据\n",
    "    output:\n",
    "        w2ner_sample (dict): w2ner格式的数据\n",
    "    \"\"\"\n",
    "    \n",
    "    text = sample['text']\n",
    "    label = sample['label']\n",
    "    \n",
    "    w2ner_sample = {}\n",
    "    sentence = [char for char in text]\n",
    "    ners = []\n",
    "    for key in label:\n",
    "        entity_type = key   # 实体类型\n",
    "\n",
    "        for item in label[key]:\n",
    "            # 取实体索引即可\n",
    "            # label[key][item]: [[0, 2]]\n",
    "            start_index = int(label[key][item][0][0])\n",
    "            end_index = int(label[key][item][0][-1])\n",
    "            w2ner_entity = {'index': [i for i in range(start_index, end_index + 1)],\n",
    "                            'type': entity_type}\n",
    "            ners.append(w2ner_entity)\n",
    "                \n",
    "    w2ner_sample['sentence'] = sentence\n",
    "    w2ner_sample['ner'] = ners\n",
    "                \n",
    "    return w2ner_sample"
   ]
  },
  {
   "cell_type": "code",
   "execution_count": 30,
   "metadata": {},
   "outputs": [
    {
     "data": {
      "text/plain": [
       "{'text': '方传柳实习生王梦菲',\n",
       " 'label': {'name': {'方传柳': [[0, 2]], '王梦菲': [[6, 8]]},\n",
       "  'position': {'实习生': [[3, 5]]}}}"
      ]
     },
     "execution_count": 30,
     "metadata": {},
     "output_type": "execute_result"
    }
   ],
   "source": [
    "s = {\"text\": \"方传柳实习生王梦菲\", \"label\": {\"name\": {\"方传柳\": [[0, 2]], \"王梦菲\": [[6, 8]]}, \"position\": {\"实习生\": [[3, 5]]}}}\n",
    "s"
   ]
  },
  {
   "cell_type": "code",
   "execution_count": 31,
   "metadata": {},
   "outputs": [
    {
     "data": {
      "text/plain": [
       "{'sentence': ['方', '传', '柳', '实', '习', '生', '王', '梦', '菲'],\n",
       " 'ner': [{'index': [0, 1, 2], 'type': 'name'},\n",
       "  {'index': [6, 7, 8], 'type': 'name'},\n",
       "  {'index': [3, 4, 5], 'type': 'position'}]}"
      ]
     },
     "execution_count": 31,
     "metadata": {},
     "output_type": "execute_result"
    }
   ],
   "source": [
    "convert_cluener_to_w2nerformat(s)"
   ]
  },
  {
   "cell_type": "markdown",
   "metadata": {},
   "source": [
    "整个数据集的转换"
   ]
  },
  {
   "cell_type": "code",
   "execution_count": null,
   "metadata": {},
   "outputs": [],
   "source": []
  }
 ],
 "metadata": {
  "interpreter": {
   "hash": "f631b86adf457f338a4428257848576e298574cd5d4f6dd6f5d4f2a8f96b5adb"
  },
  "kernelspec": {
   "display_name": "Python 3.8.13 ('pytorch')",
   "language": "python",
   "name": "python3"
  },
  "language_info": {
   "codemirror_mode": {
    "name": "ipython",
    "version": 3
   },
   "file_extension": ".py",
   "mimetype": "text/x-python",
   "name": "python",
   "nbconvert_exporter": "python",
   "pygments_lexer": "ipython3",
   "version": "3.8.13"
  },
  "orig_nbformat": 4
 },
 "nbformat": 4,
 "nbformat_minor": 2
}
