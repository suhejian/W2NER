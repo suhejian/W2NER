{
 "cells": [
  {
   "cell_type": "markdown",
   "metadata": {},
   "source": [
    "## 训练部分"
   ]
  },
  {
   "cell_type": "markdown",
   "metadata": {},
   "source": [
    "先获取数据"
   ]
  },
  {
   "cell_type": "code",
   "execution_count": 1,
   "metadata": {},
   "outputs": [],
   "source": [
    "import json\n",
    "\n",
    "with open(\"./config/conll03.json\", \"r\", encoding=\"utf-8\") as f:\n",
    "    config_data = json.load(f)\n",
    "    \n",
    "with open(\"./data/{}/train.json\".format(config_data['dataset']), \"r\", encoding=\"utf-8\") as f:\n",
    "    train_data = json.load(f)\n",
    "    \n",
    "with open(\"./data/{}/test.json\".format(config_data['dataset']), \"r\", encoding=\"utf-8\") as f:\n",
    "    test_data = json.load(f)"
   ]
  },
  {
   "cell_type": "code",
   "execution_count": 2,
   "metadata": {},
   "outputs": [
    {
     "name": "stderr",
     "output_type": "stream",
     "text": [
      "d:\\Software\\Anaconda\\anaconda\\envs\\w2ner\\lib\\site-packages\\tqdm\\auto.py:22: TqdmWarning: IProgress not found. Please update jupyter and ipywidgets. See https://ipywidgets.readthedocs.io/en/stable/user_install.html\n",
      "  from .autonotebook import tqdm as notebook_tqdm\n"
     ]
    }
   ],
   "source": [
    "from transformers import AutoTokenizer\n",
    "\n",
    "tokenizer = AutoTokenizer.from_pretrained(config_data['bert_name'], cache_dir=\"./cache\")"
   ]
  },
  {
   "cell_type": "code",
   "execution_count": 3,
   "metadata": {},
   "outputs": [
    {
     "name": "stdout",
     "output_type": "stream",
     "text": [
      "29441\n"
     ]
    }
   ],
   "source": [
    "from data_loader import Vocabulary\n",
    "from data_loader import fill_vocab\n",
    "\n",
    "vocab = Vocabulary()\n",
    "entity_num = fill_vocab(vocab, train_data)\n",
    "print(entity_num)   # 实体数目"
   ]
  },
  {
   "cell_type": "markdown",
   "metadata": {},
   "source": [
    "标签和索引的对应关系"
   ]
  },
  {
   "cell_type": "code",
   "execution_count": 4,
   "metadata": {},
   "outputs": [
    {
     "data": {
      "text/plain": [
       "{0: '<pad>', 1: '<suc>', 2: 'org', 3: 'misc', 4: 'per', 5: 'loc'}"
      ]
     },
     "execution_count": 4,
     "metadata": {},
     "output_type": "execute_result"
    }
   ],
   "source": [
    "vocab.id2label"
   ]
  },
  {
   "cell_type": "markdown",
   "metadata": {},
   "source": [
    "如何从原始输入得到模型输入数据"
   ]
  },
  {
   "cell_type": "code",
   "execution_count": 5,
   "metadata": {},
   "outputs": [],
   "source": [
    "from data_loader import RelationDataset\n",
    "from data_loader import process_bert\n",
    "\n",
    "train_dataset = RelationDataset(*process_bert(train_data, tokenizer, vocab))"
   ]
  },
  {
   "cell_type": "code",
   "execution_count": 6,
   "metadata": {},
   "outputs": [],
   "source": [
    "from torch.utils.data import DataLoader\n",
    "import data_loader\n",
    "\n",
    "train_loader = DataLoader(train_dataset, batch_size=config_data['batch_size'], shuffle=True, num_workers=4, drop_last=True)"
   ]
  },
  {
   "cell_type": "markdown",
   "metadata": {},
   "source": [
    "模型部分"
   ]
  },
  {
   "cell_type": "code",
   "execution_count": 7,
   "metadata": {},
   "outputs": [],
   "source": [
    "import torch\n",
    "import torch.nn as nn\n",
    "import torch.nn.functional as F\n",
    "from torch.nn.utils.rnn import pack_padded_sequence, pad_packed_sequence\n",
    "from model import LayerNorm\n",
    "from model import ConvolutionLayer\n",
    "from model import Biaffine\n",
    "from model import MLP\n",
    "from model import CoPredictor\n",
    "from transformers import AutoModel\n",
    "\n",
    "class Model(nn.Module):\n",
    "    def __init__(self, config):\n",
    "        super(Model, self).__init__()\n",
    "        self.use_bert_last_4_layers = config.use_bert_last_4_layers\n",
    "\n",
    "        self.lstm_hid_size = config.lstm_hid_size\n",
    "        self.conv_hid_size = config.conv_hid_size\n",
    "\n",
    "        lstm_input_size = 0\n",
    "\n",
    "        self.bert = AutoModel.from_pretrained(config.bert_name, cache_dir=\"./cache/\", output_hidden_states=True)\n",
    "        lstm_input_size += config.bert_hid_size\n",
    "\n",
    "        self.dis_embs = nn.Embedding(20, config.dist_emb_size)\n",
    "        self.reg_embs = nn.Embedding(3, config.type_emb_size)\n",
    "\n",
    "        self.encoder = nn.LSTM(lstm_input_size, config.lstm_hid_size // 2, num_layers=1, batch_first=True,\n",
    "                               bidirectional=True)\n",
    "\n",
    "        conv_input_size = config.lstm_hid_size + config.dist_emb_size + config.type_emb_size\n",
    "\n",
    "        self.convLayer = ConvolutionLayer(conv_input_size, config.conv_hid_size, config.dilation, config.conv_dropout)\n",
    "        self.dropout = nn.Dropout(config.emb_dropout)\n",
    "        self.predictor = CoPredictor(config.label_num, config.lstm_hid_size, config.biaffine_size,\n",
    "                                     config.conv_hid_size * len(config.dilation), config.ffnn_hid_size,\n",
    "                                     config.out_dropout)\n",
    "\n",
    "        self.cln = LayerNorm(config.lstm_hid_size, config.lstm_hid_size, conditional=True)\n",
    "\n",
    "    def forward(self, bert_inputs, grid_mask2d, dist_inputs, pieces2word, sent_length):\n",
    "        '''\n",
    "        :param bert_inputs: [B, L'], L': num of subwords + 2\n",
    "        :param grid_mask2d: [B, L, L], L: num of tokens\n",
    "        :param dist_inputs: [B, L, L], distance between tokens\n",
    "        :param pieces2word: [B, L, L'], token和subword的映射\n",
    "        :param sent_length: [B]\n",
    "        :return:\n",
    "        '''\n",
    "        bert_embs = self.bert(input_ids=bert_inputs, attention_mask=bert_inputs.ne(0).float())\n",
    "        if self.use_bert_last_4_layers:\n",
    "            bert_embs = torch.stack(bert_embs[2][-4:], dim=-1).mean(-1)\n",
    "        else:\n",
    "            bert_embs = bert_embs[0]\n",
    "\n",
    "        length = pieces2word.size(1)\n",
    "\n",
    "        min_value = torch.min(bert_embs).item()\n",
    "\n",
    "        # Max pooling word representations from pieces\n",
    "        _bert_embs = bert_embs.unsqueeze(1).expand(-1, length, -1, -1)\n",
    "        _bert_embs = torch.masked_fill(_bert_embs, pieces2word.eq(0).unsqueeze(-1), min_value)\n",
    "        word_reps, _ = torch.max(_bert_embs, dim=2)\n",
    "\n",
    "        word_reps = self.dropout(word_reps)\n",
    "        packed_embs = pack_padded_sequence(word_reps, sent_length.cpu(), batch_first=True, enforce_sorted=False)\n",
    "        packed_outs, (hidden, _) = self.encoder(packed_embs)\n",
    "        word_reps, _ = pad_packed_sequence(packed_outs, batch_first=True, total_length=sent_length.max())\n",
    "\n",
    "        cln = self.cln(word_reps.unsqueeze(2), word_reps)\n",
    "\n",
    "        dis_emb = self.dis_embs(dist_inputs)\n",
    "        tril_mask = torch.tril(grid_mask2d.clone().long())\n",
    "        reg_inputs = tril_mask + grid_mask2d.clone().long()\n",
    "        reg_emb = self.reg_embs(reg_inputs)\n",
    "\n",
    "        conv_inputs = torch.cat([dis_emb, reg_emb, cln], dim=-1)\n",
    "        conv_inputs = torch.masked_fill(conv_inputs, grid_mask2d.eq(0).unsqueeze(-1), 0.0)\n",
    "        conv_outputs = self.convLayer(conv_inputs)\n",
    "        conv_outputs = torch.masked_fill(conv_outputs, grid_mask2d.eq(0).unsqueeze(-1), 0.0)\n",
    "        outputs = self.predictor(word_reps, word_reps, conv_outputs)\n",
    "\n",
    "        return outputs"
   ]
  },
  {
   "cell_type": "code",
   "execution_count": 8,
   "metadata": {},
   "outputs": [
    {
     "data": {
      "text/plain": [
       "{0: '<pad>', 1: '<suc>', 2: 'org', 3: 'misc', 4: 'per', 5: 'loc'}"
      ]
     },
     "execution_count": 8,
     "metadata": {},
     "output_type": "execute_result"
    }
   ],
   "source": [
    "vocab.id2label"
   ]
  },
  {
   "cell_type": "code",
   "execution_count": 9,
   "metadata": {},
   "outputs": [],
   "source": [
    "config_data['label_num'] = len(vocab.id2label)"
   ]
  },
  {
   "cell_type": "markdown",
   "metadata": {},
   "source": [
    "数据传入模型"
   ]
  },
  {
   "cell_type": "code",
   "execution_count": 10,
   "metadata": {},
   "outputs": [],
   "source": [
    "# for i, data_batch in enumerate(train_loader):\n",
    "#     break"
   ]
  },
  {
   "cell_type": "code",
   "execution_count": 11,
   "metadata": {},
   "outputs": [],
   "source": [
    "# model = Model(config_data)"
   ]
  },
  {
   "cell_type": "markdown",
   "metadata": {},
   "source": [
    "## 解码部分"
   ]
  },
  {
   "cell_type": "markdown",
   "metadata": {},
   "source": [
    "### 拿到数据"
   ]
  },
  {
   "cell_type": "code",
   "execution_count": 12,
   "metadata": {},
   "outputs": [
    {
     "name": "stderr",
     "output_type": "stream",
     "text": [
      "2022-05-12 14:12:26 - INFO: dict_items([('dataset', 'conll03'), ('dist_emb_size', 20), ('type_emb_size', 20), ('lstm_hid_size', 768), ('conv_hid_size', 96), ('bert_hid_size', 1024), ('biaffine_size', 768), ('ffnn_hid_size', 128), ('dilation', [1, 2, 3]), ('emb_dropout', 0.5), ('conv_dropout', 0.5), ('out_dropout', 0.33), ('epochs', 10), ('batch_size', 2), ('learning_rate', 0.001), ('weight_decay', 0), ('clip_grad_norm', 1.0), ('bert_name', 'bert-large-cased'), ('bert_learning_rate', 1e-05), ('warm_factor', 0.1), ('use_bert_last_4_layers', True), ('seed', 123)])\n",
      "2022-05-12 14:12:36 - INFO: \n",
      "+---------+-----------+----------+\n",
      "| conll03 | sentences | entities |\n",
      "+---------+-----------+----------+\n",
      "|  train  |   17291   |  29441   |\n",
      "|   dev   |    3453   |   5648   |\n",
      "|   test  |    3453   |   5648   |\n",
      "+---------+-----------+----------+\n"
     ]
    }
   ],
   "source": [
    "class Config:\n",
    "    def __init__(self, config_data):\n",
    "        config = config_data\n",
    "\n",
    "        self.dataset = config[\"dataset\"]\n",
    "\n",
    "        self.dist_emb_size = config[\"dist_emb_size\"]\n",
    "        self.type_emb_size = config[\"type_emb_size\"]\n",
    "        self.lstm_hid_size = config[\"lstm_hid_size\"]\n",
    "        self.conv_hid_size = config[\"conv_hid_size\"]\n",
    "        self.bert_hid_size = config[\"bert_hid_size\"]\n",
    "        self.biaffine_size = config[\"biaffine_size\"]\n",
    "        self.ffnn_hid_size = config[\"ffnn_hid_size\"]\n",
    "\n",
    "        self.dilation = config[\"dilation\"]\n",
    "\n",
    "        self.emb_dropout = config[\"emb_dropout\"]\n",
    "        self.conv_dropout = config[\"conv_dropout\"]\n",
    "        self.out_dropout = config[\"out_dropout\"]\n",
    "\n",
    "        self.epochs = config[\"epochs\"]\n",
    "        self.batch_size = config[\"batch_size\"]\n",
    "\n",
    "        self.learning_rate = config[\"learning_rate\"]\n",
    "        self.weight_decay = config[\"weight_decay\"]\n",
    "        self.clip_grad_norm = config[\"clip_grad_norm\"]\n",
    "        self.bert_name = config[\"bert_name\"]\n",
    "        self.bert_learning_rate = config[\"bert_learning_rate\"]\n",
    "        self.warm_factor = config[\"warm_factor\"]\n",
    "\n",
    "        self.use_bert_last_4_layers = config[\"use_bert_last_4_layers\"]\n",
    "\n",
    "        self.seed = config[\"seed\"]\n",
    "\n",
    "\n",
    "    def __repr__(self):\n",
    "        return \"{}\".format(self.__dict__.items())\n",
    "    \n",
    "\n",
    "import json\n",
    "from transformers import AutoTokenizer\n",
    "import data_loader\n",
    "\n",
    "with open(\"./config/conll03.json\", \"r\", encoding=\"utf-8\") as f:\n",
    "    config_data = json.load(f)\n",
    "\n",
    "tokenizer = AutoTokenizer.from_pretrained(config_data['bert_name'], cache_dir=\"./cache\")\n",
    "config = Config(config_data)\n",
    "\n",
    "import utils\n",
    "\n",
    "logger = utils.get_logger(config.dataset)\n",
    "logger.info(config)\n",
    "config.logger = logger\n",
    "datasets = data_loader.load_data_bert(config)[0]\n",
    "\n",
    "\n",
    "from torch.utils.data import DataLoader\n",
    "\n",
    "train_loader, dev_loader, test_loader = (\n",
    "    DataLoader(dataset=dataset,\n",
    "                batch_size=config.batch_size,\n",
    "                collate_fn=data_loader.collate_fn,\n",
    "                shuffle=i == 0,\n",
    "                num_workers=4,\n",
    "                drop_last=i == 0)\n",
    "    for i, dataset in enumerate(datasets)\n",
    ")"
   ]
  },
  {
   "cell_type": "markdown",
   "metadata": {},
   "source": [
    "### 拿到训练好的模型"
   ]
  },
  {
   "cell_type": "markdown",
   "metadata": {},
   "source": [
    "#### 先实例化模型"
   ]
  },
  {
   "cell_type": "code",
   "execution_count": 13,
   "metadata": {},
   "outputs": [
    {
     "name": "stderr",
     "output_type": "stream",
     "text": [
      "Some weights of the model checkpoint at bert-large-cased were not used when initializing BertModel: ['cls.predictions.bias', 'cls.seq_relationship.weight', 'cls.predictions.decoder.weight', 'cls.predictions.transform.LayerNorm.bias', 'cls.predictions.transform.dense.weight', 'cls.predictions.transform.dense.bias', 'cls.predictions.transform.LayerNorm.weight', 'cls.seq_relationship.bias']\n",
      "- This IS expected if you are initializing BertModel from the checkpoint of a model trained on another task or with another architecture (e.g. initializing a BertForSequenceClassification model from a BertForPreTraining model).\n",
      "- This IS NOT expected if you are initializing BertModel from the checkpoint of a model that you expect to be exactly identical (initializing a BertForSequenceClassification model from a BertForSequenceClassification model).\n"
     ]
    }
   ],
   "source": [
    "from model import Model\n",
    "\n",
    "model = Model(config)"
   ]
  },
  {
   "cell_type": "markdown",
   "metadata": {},
   "source": [
    "#### 再传入模型参数"
   ]
  },
  {
   "cell_type": "code",
   "execution_count": 14,
   "metadata": {},
   "outputs": [
    {
     "data": {
      "text/plain": [
       "<All keys matched successfully>"
      ]
     },
     "execution_count": 14,
     "metadata": {},
     "output_type": "execute_result"
    }
   ],
   "source": [
    "import torch\n",
    "import os\n",
    "# os.environ['CUDA_VISIBLE_DEVICES'] = '7'\n",
    "\n",
    "model_path = \"./model.pt\"\n",
    "model.load_state_dict(torch.load(model_path))"
   ]
  },
  {
   "cell_type": "markdown",
   "metadata": {},
   "source": [
    "### 预测（解码）"
   ]
  },
  {
   "cell_type": "markdown",
   "metadata": {},
   "source": [
    "先取一个Batch的数据"
   ]
  },
  {
   "cell_type": "code",
   "execution_count": 15,
   "metadata": {},
   "outputs": [],
   "source": [
    "for i, data_batch in enumerate(test_loader):\n",
    "    break"
   ]
  },
  {
   "cell_type": "code",
   "execution_count": 16,
   "metadata": {},
   "outputs": [
    {
     "data": {
      "text/plain": [
       "{0: '<pad>', 1: '<suc>', 2: 'org', 3: 'misc', 4: 'per', 5: 'loc'}"
      ]
     },
     "execution_count": 16,
     "metadata": {},
     "output_type": "execute_result"
    }
   ],
   "source": [
    "# 标签和索引的对应关系\n",
    "vocab.id2label"
   ]
  },
  {
   "cell_type": "code",
   "execution_count": 17,
   "metadata": {},
   "outputs": [],
   "source": [
    "# 实体对应的字符串\n",
    "entity_text = data_batch[-1]    # [{'2-#-5', '7-#-4'}, {'0-1-#-4'}]\n",
    "\n",
    "# 模型输入\n",
    "data_batch = [data.cuda() for data in data_batch[:-1]]\n",
    "bert_inputs, grid_labels, grid_mask2d, pieces2word, dist_inputs, sent_length = data_batch"
   ]
  },
  {
   "cell_type": "code",
   "execution_count": 18,
   "metadata": {},
   "outputs": [],
   "source": [
    "# bert_inputs.shape   # torch.Size([2, 33])\n",
    "# grid_labels.shape   # torch.Size([2, 12, 12])\n",
    "# grid_mask2d.shape   # torch.Size([2, 12, 12])\n",
    "# pieces2word.shape   # torch.Size([2, 12, 33])\n",
    "# sent_length.shape   # torch.Size([2])\n",
    "# 对这个Batch来说，token length是12，subword length是33\n",
    "\n",
    "import utils\n",
    "# 评估模式\n",
    "model.eval()\n",
    "model.cuda()\n",
    "\n",
    "outputs = model(bert_inputs, grid_mask2d, dist_inputs, pieces2word, sent_length)"
   ]
  },
  {
   "cell_type": "code",
   "execution_count": 19,
   "metadata": {},
   "outputs": [],
   "source": [
    "# outputs是预测Token之间的关系\n",
    "# outputs.shape   # torch.Size([2, 12, 12, 6])"
   ]
  },
  {
   "cell_type": "code",
   "execution_count": 20,
   "metadata": {},
   "outputs": [],
   "source": [
    "arg_outputs = torch.argmax(outputs, -1)\n",
    "predictions = utils.get_predictions(arg_outputs.cpu().numpy(), sent_length.cpu().numpy())"
   ]
  },
  {
   "cell_type": "code",
   "execution_count": 21,
   "metadata": {},
   "outputs": [
    {
     "name": "stderr",
     "output_type": "stream",
     "text": [
      "d:\\Project\\W2NER\\estimate_entity_prob.py:53: UserWarning: Implicit dimension choice for softmax has been deprecated. Change the call to include dim=X as an argument.\n",
      "  tag_prob = F.softmax(logits)[tag]\n"
     ]
    }
   ],
   "source": [
    "from estimate_entity_prob import estimate_entity_prob\n",
    "\n",
    "entity_and_prob = estimate_entity_prob(model_outputs=outputs, predictions=predictions)"
   ]
  },
  {
   "cell_type": "code",
   "execution_count": 22,
   "metadata": {},
   "outputs": [
    {
     "data": {
      "text/plain": [
       "[[('2-#-5', 0.9996621608734131), ('7-#-5', 0.9658114910125732)],\n",
       " [('0-1-#-4', 0.9999997019767761)]]"
      ]
     },
     "execution_count": 22,
     "metadata": {},
     "output_type": "execute_result"
    }
   ],
   "source": [
    "entity_and_prob"
   ]
  },
  {
   "cell_type": "markdown",
   "metadata": {},
   "source": [
    "对测试数据进行预测"
   ]
  },
  {
   "cell_type": "code",
   "execution_count": 24,
   "metadata": {},
   "outputs": [
    {
     "name": "stderr",
     "output_type": "stream",
     "text": [
      "d:\\Project\\W2NER\\estimate_entity_prob.py:53: UserWarning: Implicit dimension choice for softmax has been deprecated. Change the call to include dim=X as an argument.\n",
      "  tag_prob = F.softmax(logits)[tag]\n"
     ]
    }
   ],
   "source": [
    "import utils\n",
    "from estimate_entity_prob import estimate_entity_prob\n",
    "\n",
    "# 评估模式\n",
    "model.eval()\n",
    "model.cuda()\n",
    "\n",
    "pred_result = []\n",
    "label_result = []\n",
    "\n",
    "with torch.no_grad():\n",
    "    for i, data_batch in enumerate(test_loader):\n",
    "        entity_text = data_batch[-1]\n",
    "        label_result.append(entity_text)\n",
    "        data_batch = [data.cuda() for data in data_batch[:-1]]\n",
    "        bert_inputs, grid_labels, grid_mask2d, pieces2word, dist_inputs, sent_length = data_batch\n",
    "\n",
    "        outputs = model(bert_inputs, grid_mask2d, dist_inputs, pieces2word, sent_length)\n",
    "        arg_outputs = torch.argmax(outputs, -1)\n",
    "        predictions = utils.get_predictions(arg_outputs.cpu().numpy(), sent_length.cpu().numpy())\n",
    "        \n",
    "        entity_and_prob = estimate_entity_prob(model_outputs=outputs, predictions=predictions)\n",
    "        pred_result.append(entity_and_prob)\n",
    "        "
   ]
  },
  {
   "cell_type": "code",
   "execution_count": 25,
   "metadata": {},
   "outputs": [],
   "source": [
    "labels = []\n",
    "preds = []\n",
    "for i in range(len(pred_result)):\n",
    "    labels.extend(label_result[i])\n",
    "    preds.extend(pred_result[i])"
   ]
  },
  {
   "cell_type": "code",
   "execution_count": 26,
   "metadata": {},
   "outputs": [
    {
     "data": {
      "text/plain": [
       "[{'2-#-5', '7-#-4'},\n",
       " {'0-1-#-4'},\n",
       " {'0-#-5', '2-3-4-#-5'},\n",
       " {'0-#-5', '15-#-5', '6-7-#-3'},\n",
       " {'1-#-5', '23-#-5'}]"
      ]
     },
     "execution_count": 26,
     "metadata": {},
     "output_type": "execute_result"
    }
   ],
   "source": [
    "labels[: 5]"
   ]
  },
  {
   "cell_type": "code",
   "execution_count": 36,
   "metadata": {},
   "outputs": [
    {
     "data": {
      "text/plain": [
       "{0: '<pad>', 1: '<suc>', 2: 'org', 3: 'misc', 4: 'per', 5: 'loc'}"
      ]
     },
     "execution_count": 36,
     "metadata": {},
     "output_type": "execute_result"
    }
   ],
   "source": [
    "vocab.id2label"
   ]
  },
  {
   "cell_type": "code",
   "execution_count": 27,
   "metadata": {},
   "outputs": [
    {
     "data": {
      "text/plain": [
       "[[('2-#-5', 0.9996621608734131), ('7-#-5', 0.9658114910125732)],\n",
       " [('0-1-#-4', 0.9999997019767761)],\n",
       " [('0-#-5', 0.9995947480201721), ('2-3-4-#-5', 0.9999992847442627)],\n",
       " [('0-#-5', 0.9999983310699463),\n",
       "  ('15-#-5', 0.9999908208847046),\n",
       "  ('6-7-#-3', 0.9988368153572083)],\n",
       " [('1-#-5', 0.9999998807907104), ('23-#-5', 0.9999984502792358)]]"
      ]
     },
     "execution_count": 27,
     "metadata": {},
     "output_type": "execute_result"
    }
   ],
   "source": [
    "preds[: 5]"
   ]
  },
  {
   "cell_type": "code",
   "execution_count": 42,
   "metadata": {},
   "outputs": [],
   "source": [
    "def get_entities(sentence, entity_text, id2label):\n",
    "    \"\"\"\n",
    "    根据entity_text和原文得到真正的实体\n",
    "    \"\"\"\n",
    "    entities = []\n",
    "    for entity in entity_text:\n",
    "        ids = entity.split(\"-\")\n",
    "        tag_index = int(ids[-1])\n",
    "        \n",
    "        ids = ids[: -2]\n",
    "        entity_ids = [int(x) for x in ids]\n",
    "        \n",
    "        entity = [sentence[idx] for idx in entity_ids]\n",
    "        entities.append((\" \".join(entity), id2label[tag_index]))\n",
    "    return entities"
   ]
  },
  {
   "cell_type": "code",
   "execution_count": 43,
   "metadata": {},
   "outputs": [
    {
     "data": {
      "text/plain": [
       "[('JAPAN', 'loc'), ('CHINA', 'per')]"
      ]
     },
     "execution_count": 43,
     "metadata": {},
     "output_type": "execute_result"
    }
   ],
   "source": [
    "get_entities(test_data[0]['sentence'], labels[0], vocab.id2label)"
   ]
  },
  {
   "cell_type": "code",
   "execution_count": 45,
   "metadata": {},
   "outputs": [
    {
     "data": {
      "text/plain": [
       "['2-#-5', '7-#-5']"
      ]
     },
     "execution_count": 45,
     "metadata": {},
     "output_type": "execute_result"
    }
   ],
   "source": [
    "pred = [item[0] for item in preds[0]]\n",
    "pred"
   ]
  },
  {
   "cell_type": "code",
   "execution_count": 47,
   "metadata": {},
   "outputs": [
    {
     "data": {
      "text/plain": [
       "[0.9996621608734131, 0.9658114910125732]"
      ]
     },
     "execution_count": 47,
     "metadata": {},
     "output_type": "execute_result"
    }
   ],
   "source": [
    "prob = [item[1] for item in preds[0]]\n",
    "prob"
   ]
  },
  {
   "cell_type": "code",
   "execution_count": 46,
   "metadata": {},
   "outputs": [
    {
     "data": {
      "text/plain": [
       "[('JAPAN', 'loc'), ('CHINA', 'loc')]"
      ]
     },
     "execution_count": 46,
     "metadata": {},
     "output_type": "execute_result"
    }
   ],
   "source": [
    "get_entities(test_data[0]['sentence'], pred, vocab.id2label)"
   ]
  },
  {
   "cell_type": "markdown",
   "metadata": {},
   "source": [
    "写入预测文件"
   ]
  },
  {
   "cell_type": "code",
   "execution_count": 50,
   "metadata": {},
   "outputs": [],
   "source": [
    "with open(\"./predictions/conll03_pred.txt\", \"w\", encoding=\"utf-8\") as f:\n",
    "    for i in range(len(test_data)):\n",
    "        f.write(\"raw sentence: \\n\")\n",
    "        f.write(\" \".join(test_data[i]['sentence']) + \"\\n\")\n",
    "        f.write(\"true entities: \\n\")\n",
    "        f.write(str(get_entities(test_data[i]['sentence'], labels[i], vocab.id2label)) + \"\\n\")\n",
    "        f.write(\"predicted entities: \\n\")\n",
    "        pred = [item[0] for item in preds[i]]\n",
    "        f.write(str(get_entities(test_data[i]['sentence'], pred, vocab.id2label)) + \"\\n\")\n",
    "        f.write(\"predicted entities prob: \\n\")\n",
    "        prob = [item[1] for item in preds[i]]\n",
    "        f.write(str(prob) + \"\\n\")\n",
    "        f.write(\"\\n\")"
   ]
  },
  {
   "cell_type": "code",
   "execution_count": null,
   "metadata": {},
   "outputs": [],
   "source": []
  }
 ],
 "metadata": {
  "interpreter": {
   "hash": "1e15fdaeffecca357aa20502a01e04b649bba467ef26e9437ee6a11c3e9eebbb"
  },
  "kernelspec": {
   "display_name": "Python 3.8.13 ('w2ner')",
   "language": "python",
   "name": "python3"
  },
  "language_info": {
   "codemirror_mode": {
    "name": "ipython",
    "version": 3
   },
   "file_extension": ".py",
   "mimetype": "text/x-python",
   "name": "python",
   "nbconvert_exporter": "python",
   "pygments_lexer": "ipython3",
   "version": "3.8.13"
  },
  "orig_nbformat": 4
 },
 "nbformat": 4,
 "nbformat_minor": 2
}
