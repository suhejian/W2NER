{
 "cells": [
  {
   "cell_type": "markdown",
   "metadata": {},
   "source": [
    "先获取数据"
   ]
  },
  {
   "cell_type": "code",
   "execution_count": 1,
   "metadata": {},
   "outputs": [],
   "source": [
    "import json\n",
    "\n",
    "with open(\"./config/conll03.json\", \"r\", encoding=\"utf-8\") as f:\n",
    "    config_data = json.load(f)\n",
    "    \n",
    "with open(\"./data/{}/train.json\".format(config_data['dataset']), \"r\", encoding=\"utf-8\") as f:\n",
    "    train_data = json.load(f)"
   ]
  },
  {
   "cell_type": "code",
   "execution_count": 2,
   "metadata": {},
   "outputs": [
    {
     "name": "stderr",
     "output_type": "stream",
     "text": [
      "d:\\Software\\Anaconda\\anaconda\\envs\\w2ner\\lib\\site-packages\\tqdm\\auto.py:22: TqdmWarning: IProgress not found. Please update jupyter and ipywidgets. See https://ipywidgets.readthedocs.io/en/stable/user_install.html\n",
      "  from .autonotebook import tqdm as notebook_tqdm\n"
     ]
    }
   ],
   "source": [
    "from transformers import AutoTokenizer\n",
    "\n",
    "tokenizer = AutoTokenizer.from_pretrained(config_data['bert_name'], cache_dir=\"./cache\")"
   ]
  },
  {
   "cell_type": "code",
   "execution_count": 3,
   "metadata": {},
   "outputs": [
    {
     "name": "stdout",
     "output_type": "stream",
     "text": [
      "29441\n"
     ]
    }
   ],
   "source": [
    "from data_loader import Vocabulary\n",
    "from data_loader import fill_vocab\n",
    "\n",
    "vocab = Vocabulary()\n",
    "entity_num = fill_vocab(vocab, train_data)\n",
    "print(entity_num)   # 实体数目"
   ]
  },
  {
   "cell_type": "markdown",
   "metadata": {},
   "source": [
    "标签和索引的对应关系"
   ]
  },
  {
   "cell_type": "code",
   "execution_count": 4,
   "metadata": {},
   "outputs": [
    {
     "data": {
      "text/plain": [
       "{0: '<pad>', 1: '<suc>', 2: 'org', 3: 'misc', 4: 'per', 5: 'loc'}"
      ]
     },
     "execution_count": 4,
     "metadata": {},
     "output_type": "execute_result"
    }
   ],
   "source": [
    "vocab.id2label"
   ]
  },
  {
   "cell_type": "markdown",
   "metadata": {},
   "source": [
    "如何从原始输入得到模型输入数据"
   ]
  },
  {
   "cell_type": "code",
   "execution_count": 5,
   "metadata": {},
   "outputs": [],
   "source": [
    "from data_loader import RelationDataset\n",
    "from data_loader import process_bert\n",
    "\n",
    "train_dataset = RelationDataset(*process_bert(train_data, tokenizer, vocab))"
   ]
  },
  {
   "cell_type": "code",
   "execution_count": 6,
   "metadata": {},
   "outputs": [],
   "source": [
    "from torch.utils.data import DataLoader\n",
    "import data_loader\n",
    "\n",
    "train_loader = DataLoader(train_dataset, batch_size=config_data['batch_size'], shuffle=True, num_workers=4, drop_last=True)"
   ]
  },
  {
   "cell_type": "markdown",
   "metadata": {},
   "source": [
    "模型部分"
   ]
  },
  {
   "cell_type": "code",
   "execution_count": 7,
   "metadata": {},
   "outputs": [],
   "source": [
    "import torch\n",
    "import torch.nn as nn\n",
    "import torch.nn.functional as F\n",
    "from torch.nn.utils.rnn import pack_padded_sequence, pad_packed_sequence\n",
    "from model import LayerNorm\n",
    "from model import ConvolutionLayer\n",
    "from model import Biaffine\n",
    "from model import MLP\n",
    "from model import CoPredictor\n",
    "from transformers import AutoModel\n",
    "\n",
    "class Model(nn.Module):\n",
    "    def __init__(self, config):\n",
    "        super(Model, self).__init__()\n",
    "        self.use_bert_last_4_layers = config.use_bert_last_4_layers\n",
    "\n",
    "        self.lstm_hid_size = config.lstm_hid_size\n",
    "        self.conv_hid_size = config.conv_hid_size\n",
    "\n",
    "        lstm_input_size = 0\n",
    "\n",
    "        self.bert = AutoModel.from_pretrained(config.bert_name, cache_dir=\"./cache/\", output_hidden_states=True)\n",
    "        lstm_input_size += config.bert_hid_size\n",
    "\n",
    "        self.dis_embs = nn.Embedding(20, config.dist_emb_size)\n",
    "        self.reg_embs = nn.Embedding(3, config.type_emb_size)\n",
    "\n",
    "        self.encoder = nn.LSTM(lstm_input_size, config.lstm_hid_size // 2, num_layers=1, batch_first=True,\n",
    "                               bidirectional=True)\n",
    "\n",
    "        conv_input_size = config.lstm_hid_size + config.dist_emb_size + config.type_emb_size\n",
    "\n",
    "        self.convLayer = ConvolutionLayer(conv_input_size, config.conv_hid_size, config.dilation, config.conv_dropout)\n",
    "        self.dropout = nn.Dropout(config.emb_dropout)\n",
    "        self.predictor = CoPredictor(config.label_num, config.lstm_hid_size, config.biaffine_size,\n",
    "                                     config.conv_hid_size * len(config.dilation), config.ffnn_hid_size,\n",
    "                                     config.out_dropout)\n",
    "\n",
    "        self.cln = LayerNorm(config.lstm_hid_size, config.lstm_hid_size, conditional=True)\n",
    "\n",
    "    def forward(self, bert_inputs, grid_mask2d, dist_inputs, pieces2word, sent_length):\n",
    "        '''\n",
    "        :param bert_inputs: [B, L'], L': num of subwords + 2\n",
    "        :param grid_mask2d: [B, L, L], L: num of tokens\n",
    "        :param dist_inputs: [B, L, L], distance between tokens\n",
    "        :param pieces2word: [B, L, L'], token和subword的映射\n",
    "        :param sent_length: [B]\n",
    "        :return:\n",
    "        '''\n",
    "        bert_embs = self.bert(input_ids=bert_inputs, attention_mask=bert_inputs.ne(0).float())\n",
    "        if self.use_bert_last_4_layers:\n",
    "            bert_embs = torch.stack(bert_embs[2][-4:], dim=-1).mean(-1)\n",
    "        else:\n",
    "            bert_embs = bert_embs[0]\n",
    "\n",
    "        length = pieces2word.size(1)\n",
    "\n",
    "        min_value = torch.min(bert_embs).item()\n",
    "\n",
    "        # Max pooling word representations from pieces\n",
    "        _bert_embs = bert_embs.unsqueeze(1).expand(-1, length, -1, -1)\n",
    "        _bert_embs = torch.masked_fill(_bert_embs, pieces2word.eq(0).unsqueeze(-1), min_value)\n",
    "        word_reps, _ = torch.max(_bert_embs, dim=2)\n",
    "\n",
    "        word_reps = self.dropout(word_reps)\n",
    "        packed_embs = pack_padded_sequence(word_reps, sent_length.cpu(), batch_first=True, enforce_sorted=False)\n",
    "        packed_outs, (hidden, _) = self.encoder(packed_embs)\n",
    "        word_reps, _ = pad_packed_sequence(packed_outs, batch_first=True, total_length=sent_length.max())\n",
    "\n",
    "        cln = self.cln(word_reps.unsqueeze(2), word_reps)\n",
    "\n",
    "        dis_emb = self.dis_embs(dist_inputs)\n",
    "        tril_mask = torch.tril(grid_mask2d.clone().long())\n",
    "        reg_inputs = tril_mask + grid_mask2d.clone().long()\n",
    "        reg_emb = self.reg_embs(reg_inputs)\n",
    "\n",
    "        conv_inputs = torch.cat([dis_emb, reg_emb, cln], dim=-1)\n",
    "        conv_inputs = torch.masked_fill(conv_inputs, grid_mask2d.eq(0).unsqueeze(-1), 0.0)\n",
    "        conv_outputs = self.convLayer(conv_inputs)\n",
    "        conv_outputs = torch.masked_fill(conv_outputs, grid_mask2d.eq(0).unsqueeze(-1), 0.0)\n",
    "        outputs = self.predictor(word_reps, word_reps, conv_outputs)\n",
    "\n",
    "        return outputs"
   ]
  },
  {
   "cell_type": "code",
   "execution_count": 8,
   "metadata": {},
   "outputs": [
    {
     "data": {
      "text/plain": [
       "{0: '<pad>', 1: '<suc>', 2: 'org', 3: 'misc', 4: 'per', 5: 'loc'}"
      ]
     },
     "execution_count": 8,
     "metadata": {},
     "output_type": "execute_result"
    }
   ],
   "source": [
    "vocab.id2label"
   ]
  },
  {
   "cell_type": "code",
   "execution_count": 9,
   "metadata": {},
   "outputs": [],
   "source": [
    "config_data['label_num'] = len(vocab.id2label)"
   ]
  },
  {
   "cell_type": "markdown",
   "metadata": {},
   "source": [
    "数据传入模型"
   ]
  },
  {
   "cell_type": "code",
   "execution_count": 10,
   "metadata": {},
   "outputs": [
    {
     "ename": "RuntimeError",
     "evalue": "Caught RuntimeError in DataLoader worker process 0.\nOriginal Traceback (most recent call last):\n  File \"d:\\Software\\Anaconda\\anaconda\\envs\\w2ner\\lib\\site-packages\\torch\\utils\\data\\_utils\\worker.py\", line 287, in _worker_loop\n    data = fetcher.fetch(index)\n  File \"d:\\Software\\Anaconda\\anaconda\\envs\\w2ner\\lib\\site-packages\\torch\\utils\\data\\_utils\\fetch.py\", line 52, in fetch\n    return self.collate_fn(data)\n  File \"d:\\Software\\Anaconda\\anaconda\\envs\\w2ner\\lib\\site-packages\\torch\\utils\\data\\_utils\\collate.py\", line 84, in default_collate\n    return [default_collate(samples) for samples in transposed]\n  File \"d:\\Software\\Anaconda\\anaconda\\envs\\w2ner\\lib\\site-packages\\torch\\utils\\data\\_utils\\collate.py\", line 84, in <listcomp>\n    return [default_collate(samples) for samples in transposed]\n  File \"d:\\Software\\Anaconda\\anaconda\\envs\\w2ner\\lib\\site-packages\\torch\\utils\\data\\_utils\\collate.py\", line 56, in default_collate\n    return torch.stack(batch, 0, out=out)\nRuntimeError: stack expects each tensor to be equal size, but got [11] at entry 0 and [12] at entry 1\n",
     "output_type": "error",
     "traceback": [
      "\u001b[1;31m---------------------------------------------------------------------------\u001b[0m",
      "\u001b[1;31mRuntimeError\u001b[0m                              Traceback (most recent call last)",
      "\u001b[1;32md:\\Project\\W2NER-main\\源码阅读.ipynb Cell 15'\u001b[0m in \u001b[0;36m<cell line: 1>\u001b[1;34m()\u001b[0m\n\u001b[1;32m----> <a href='vscode-notebook-cell:/d%3A/Project/W2NER-main/%E6%BA%90%E7%A0%81%E9%98%85%E8%AF%BB.ipynb#ch0000015?line=0'>1</a>\u001b[0m \u001b[39mfor\u001b[39;00m i, data_batch \u001b[39min\u001b[39;00m \u001b[39menumerate\u001b[39m(train_loader):\n\u001b[0;32m      <a href='vscode-notebook-cell:/d%3A/Project/W2NER-main/%E6%BA%90%E7%A0%81%E9%98%85%E8%AF%BB.ipynb#ch0000015?line=1'>2</a>\u001b[0m     \u001b[39mbreak\u001b[39;00m\n",
      "File \u001b[1;32md:\\Software\\Anaconda\\anaconda\\envs\\w2ner\\lib\\site-packages\\torch\\utils\\data\\dataloader.py:521\u001b[0m, in \u001b[0;36m_BaseDataLoaderIter.__next__\u001b[1;34m(self)\u001b[0m\n\u001b[0;32m    <a href='file:///d%3A/Software/Anaconda/anaconda/envs/w2ner/lib/site-packages/torch/utils/data/dataloader.py?line=518'>519</a>\u001b[0m \u001b[39mif\u001b[39;00m \u001b[39mself\u001b[39m\u001b[39m.\u001b[39m_sampler_iter \u001b[39mis\u001b[39;00m \u001b[39mNone\u001b[39;00m:\n\u001b[0;32m    <a href='file:///d%3A/Software/Anaconda/anaconda/envs/w2ner/lib/site-packages/torch/utils/data/dataloader.py?line=519'>520</a>\u001b[0m     \u001b[39mself\u001b[39m\u001b[39m.\u001b[39m_reset()\n\u001b[1;32m--> <a href='file:///d%3A/Software/Anaconda/anaconda/envs/w2ner/lib/site-packages/torch/utils/data/dataloader.py?line=520'>521</a>\u001b[0m data \u001b[39m=\u001b[39m \u001b[39mself\u001b[39;49m\u001b[39m.\u001b[39;49m_next_data()\n\u001b[0;32m    <a href='file:///d%3A/Software/Anaconda/anaconda/envs/w2ner/lib/site-packages/torch/utils/data/dataloader.py?line=521'>522</a>\u001b[0m \u001b[39mself\u001b[39m\u001b[39m.\u001b[39m_num_yielded \u001b[39m+\u001b[39m\u001b[39m=\u001b[39m \u001b[39m1\u001b[39m\n\u001b[0;32m    <a href='file:///d%3A/Software/Anaconda/anaconda/envs/w2ner/lib/site-packages/torch/utils/data/dataloader.py?line=522'>523</a>\u001b[0m \u001b[39mif\u001b[39;00m \u001b[39mself\u001b[39m\u001b[39m.\u001b[39m_dataset_kind \u001b[39m==\u001b[39m _DatasetKind\u001b[39m.\u001b[39mIterable \u001b[39mand\u001b[39;00m \\\n\u001b[0;32m    <a href='file:///d%3A/Software/Anaconda/anaconda/envs/w2ner/lib/site-packages/torch/utils/data/dataloader.py?line=523'>524</a>\u001b[0m         \u001b[39mself\u001b[39m\u001b[39m.\u001b[39m_IterableDataset_len_called \u001b[39mis\u001b[39;00m \u001b[39mnot\u001b[39;00m \u001b[39mNone\u001b[39;00m \u001b[39mand\u001b[39;00m \\\n\u001b[0;32m    <a href='file:///d%3A/Software/Anaconda/anaconda/envs/w2ner/lib/site-packages/torch/utils/data/dataloader.py?line=524'>525</a>\u001b[0m         \u001b[39mself\u001b[39m\u001b[39m.\u001b[39m_num_yielded \u001b[39m>\u001b[39m \u001b[39mself\u001b[39m\u001b[39m.\u001b[39m_IterableDataset_len_called:\n",
      "File \u001b[1;32md:\\Software\\Anaconda\\anaconda\\envs\\w2ner\\lib\\site-packages\\torch\\utils\\data\\dataloader.py:1203\u001b[0m, in \u001b[0;36m_MultiProcessingDataLoaderIter._next_data\u001b[1;34m(self)\u001b[0m\n\u001b[0;32m   <a href='file:///d%3A/Software/Anaconda/anaconda/envs/w2ner/lib/site-packages/torch/utils/data/dataloader.py?line=1200'>1201</a>\u001b[0m \u001b[39melse\u001b[39;00m:\n\u001b[0;32m   <a href='file:///d%3A/Software/Anaconda/anaconda/envs/w2ner/lib/site-packages/torch/utils/data/dataloader.py?line=1201'>1202</a>\u001b[0m     \u001b[39mdel\u001b[39;00m \u001b[39mself\u001b[39m\u001b[39m.\u001b[39m_task_info[idx]\n\u001b[1;32m-> <a href='file:///d%3A/Software/Anaconda/anaconda/envs/w2ner/lib/site-packages/torch/utils/data/dataloader.py?line=1202'>1203</a>\u001b[0m     \u001b[39mreturn\u001b[39;00m \u001b[39mself\u001b[39;49m\u001b[39m.\u001b[39;49m_process_data(data)\n",
      "File \u001b[1;32md:\\Software\\Anaconda\\anaconda\\envs\\w2ner\\lib\\site-packages\\torch\\utils\\data\\dataloader.py:1229\u001b[0m, in \u001b[0;36m_MultiProcessingDataLoaderIter._process_data\u001b[1;34m(self, data)\u001b[0m\n\u001b[0;32m   <a href='file:///d%3A/Software/Anaconda/anaconda/envs/w2ner/lib/site-packages/torch/utils/data/dataloader.py?line=1226'>1227</a>\u001b[0m \u001b[39mself\u001b[39m\u001b[39m.\u001b[39m_try_put_index()\n\u001b[0;32m   <a href='file:///d%3A/Software/Anaconda/anaconda/envs/w2ner/lib/site-packages/torch/utils/data/dataloader.py?line=1227'>1228</a>\u001b[0m \u001b[39mif\u001b[39;00m \u001b[39misinstance\u001b[39m(data, ExceptionWrapper):\n\u001b[1;32m-> <a href='file:///d%3A/Software/Anaconda/anaconda/envs/w2ner/lib/site-packages/torch/utils/data/dataloader.py?line=1228'>1229</a>\u001b[0m     data\u001b[39m.\u001b[39;49mreraise()\n\u001b[0;32m   <a href='file:///d%3A/Software/Anaconda/anaconda/envs/w2ner/lib/site-packages/torch/utils/data/dataloader.py?line=1229'>1230</a>\u001b[0m \u001b[39mreturn\u001b[39;00m data\n",
      "File \u001b[1;32md:\\Software\\Anaconda\\anaconda\\envs\\w2ner\\lib\\site-packages\\torch\\_utils.py:434\u001b[0m, in \u001b[0;36mExceptionWrapper.reraise\u001b[1;34m(self)\u001b[0m\n\u001b[0;32m    <a href='file:///d%3A/Software/Anaconda/anaconda/envs/w2ner/lib/site-packages/torch/_utils.py?line=429'>430</a>\u001b[0m \u001b[39mexcept\u001b[39;00m \u001b[39mTypeError\u001b[39;00m:\n\u001b[0;32m    <a href='file:///d%3A/Software/Anaconda/anaconda/envs/w2ner/lib/site-packages/torch/_utils.py?line=430'>431</a>\u001b[0m     \u001b[39m# If the exception takes multiple arguments, don't try to\u001b[39;00m\n\u001b[0;32m    <a href='file:///d%3A/Software/Anaconda/anaconda/envs/w2ner/lib/site-packages/torch/_utils.py?line=431'>432</a>\u001b[0m     \u001b[39m# instantiate since we don't know how to\u001b[39;00m\n\u001b[0;32m    <a href='file:///d%3A/Software/Anaconda/anaconda/envs/w2ner/lib/site-packages/torch/_utils.py?line=432'>433</a>\u001b[0m     \u001b[39mraise\u001b[39;00m \u001b[39mRuntimeError\u001b[39;00m(msg) \u001b[39mfrom\u001b[39;00m \u001b[39mNone\u001b[39m\n\u001b[1;32m--> <a href='file:///d%3A/Software/Anaconda/anaconda/envs/w2ner/lib/site-packages/torch/_utils.py?line=433'>434</a>\u001b[0m \u001b[39mraise\u001b[39;00m exception\n",
      "\u001b[1;31mRuntimeError\u001b[0m: Caught RuntimeError in DataLoader worker process 0.\nOriginal Traceback (most recent call last):\n  File \"d:\\Software\\Anaconda\\anaconda\\envs\\w2ner\\lib\\site-packages\\torch\\utils\\data\\_utils\\worker.py\", line 287, in _worker_loop\n    data = fetcher.fetch(index)\n  File \"d:\\Software\\Anaconda\\anaconda\\envs\\w2ner\\lib\\site-packages\\torch\\utils\\data\\_utils\\fetch.py\", line 52, in fetch\n    return self.collate_fn(data)\n  File \"d:\\Software\\Anaconda\\anaconda\\envs\\w2ner\\lib\\site-packages\\torch\\utils\\data\\_utils\\collate.py\", line 84, in default_collate\n    return [default_collate(samples) for samples in transposed]\n  File \"d:\\Software\\Anaconda\\anaconda\\envs\\w2ner\\lib\\site-packages\\torch\\utils\\data\\_utils\\collate.py\", line 84, in <listcomp>\n    return [default_collate(samples) for samples in transposed]\n  File \"d:\\Software\\Anaconda\\anaconda\\envs\\w2ner\\lib\\site-packages\\torch\\utils\\data\\_utils\\collate.py\", line 56, in default_collate\n    return torch.stack(batch, 0, out=out)\nRuntimeError: stack expects each tensor to be equal size, but got [11] at entry 0 and [12] at entry 1\n"
     ]
    }
   ],
   "source": [
    "for i, data_batch in enumerate(train_loader):\n",
    "    break"
   ]
  },
  {
   "cell_type": "code",
   "execution_count": null,
   "metadata": {},
   "outputs": [],
   "source": [
    "model = Model(config_data)"
   ]
  }
 ],
 "metadata": {
  "interpreter": {
   "hash": "1e15fdaeffecca357aa20502a01e04b649bba467ef26e9437ee6a11c3e9eebbb"
  },
  "kernelspec": {
   "display_name": "Python 3.8.13 ('w2ner')",
   "language": "python",
   "name": "python3"
  },
  "language_info": {
   "codemirror_mode": {
    "name": "ipython",
    "version": 3
   },
   "file_extension": ".py",
   "mimetype": "text/x-python",
   "name": "python",
   "nbconvert_exporter": "python",
   "pygments_lexer": "ipython3",
   "version": "3.8.13"
  },
  "orig_nbformat": 4
 },
 "nbformat": 4,
 "nbformat_minor": 2
}
